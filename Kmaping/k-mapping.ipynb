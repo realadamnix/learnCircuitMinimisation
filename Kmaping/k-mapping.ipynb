{
 "cells": [
  {
   "cell_type": "markdown",
   "metadata": {},
   "source": [
    "# Kavanagh Mapping"
   ]
  },
  {
   "cell_type": "markdown",
   "metadata": {},
   "source": [
    "## Definition\n",
    "\n",
    "\n",
    "K-mapping is a technique used to simplify boolean expressions. It is also known as Kavanagh Map. It is a graphical representation of a truth table. It is used to simplify\n",
    "\n",
    "## Example\n",
    "\n",
    "For example, consider the boolean expression A'B + AB' + AB. The Kmap for this expression is as follows: j\n",
    "\n",
    "|           | $\\bar{B}$ | $B$ |\n",
    "|-----------|-----------|-----|\n",
    "| $\\bar{A}$ | 0         | 1   |\n",
    "| $A$       | 1         | 0   |"
   ]
  },
  {
   "cell_type": "code",
   "execution_count": 2,
   "metadata": {},
   "outputs": [
    {
     "name": "stdout",
     "output_type": "stream",
     "text": [
      "True or True:  True\n",
      "True or False:  True\n",
      "False or True:  True\n",
      "False or False:  False\n"
     ]
    }
   ],
   "source": [
    "a = False \n",
    "b = True\n",
    "\n",
    "a or b \n",
    "\n",
    "print(\"True or True: \", True or True)\n",
    "print(\"True or False: \", True or False)\n",
    "print(\"False or True: \", False or True)\n",
    "print(\"False or False: \", False or False)"
   ]
  },
  {
   "cell_type": "markdown",
   "metadata": {},
   "source": [
    "Question 3: Use a Kmap to simplify C’(A’B’D’ + D) + AB’C + D’\n",
    "\n",
    "$\\bar{C}(\\bar{A} \\bar{B} \\bar{D} + D)  +AB\\bar{C} + \\bar{D} = $\n",
    "$\\bar{A} \\bar{B} \\bar{C} \\bar{D} + \\bar{C}D + AB\\bar{C} + \\bar{D} = $"
   ]
  },
  {
   "cell_type": "markdown",
   "metadata": {},
   "source": []
  }
 ],
 "metadata": {
  "kernelspec": {
   "display_name": "Python 3",
   "language": "python",
   "name": "python3"
  },
  "language_info": {
   "codemirror_mode": {
    "name": "ipython",
    "version": 3
   },
   "file_extension": ".py",
   "mimetype": "text/x-python",
   "name": "python",
   "nbconvert_exporter": "python",
   "pygments_lexer": "ipython3",
   "version": "3.10.6"
  }
 },
 "nbformat": 4,
 "nbformat_minor": 2
}
